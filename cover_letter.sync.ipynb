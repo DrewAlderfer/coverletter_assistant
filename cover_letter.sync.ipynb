{
 "cells": [
  {
   "cell_type": "code",
   "execution_count": 1,
   "id": "fc3d29ba",
   "metadata": {},
   "outputs": [],
   "source": [
    "import os\n",
    "import json\n",
    "import openai\n",
    "import tiktoken\n",
    "from aipg.ai_request import LetterMaker"
   ]
  },
  {
   "cell_type": "code",
   "execution_count": 2,
   "id": "c12c2c92",
   "metadata": {},
   "outputs": [],
   "source": [
    "%load_ext autoreload\n",
    "%autoreload 2"
   ]
  },
  {
   "cell_type": "code",
   "execution_count": 3,
   "id": "b95f3c87",
   "metadata": {},
   "outputs": [],
   "source": [
    "%aimport aipg"
   ]
  },
  {
   "cell_type": "code",
   "execution_count": 26,
   "id": "b2bcf4ce",
   "metadata": {
    "scrolled": true
   },
   "outputs": [
    {
     "name": "stderr",
     "output_type": "stream",
     "text": [
      "2023-04-25 22:20:22,541 |     INFO | ai_request.py:84 | Found a file at path: ./data/job_data.json\n"
     ]
    },
    {
     "name": "stdout",
     "output_type": "stream",
     "text": [
      "test\n"
     ]
    }
   ],
   "source": [
    "lm = LetterMaker('./data/job_data.json', '/home/drew/.openai-key')"
   ]
  },
  {
   "cell_type": "code",
   "execution_count": 27,
   "id": "64a822ba",
   "metadata": {
    "scrolled": false
   },
   "outputs": [
    {
     "name": "stderr",
     "output_type": "stream",
     "text": [
      "2023-04-25 22:20:25,824 |    DEBUG | ai_request.py:275 | 'starting query for:\\ncompany: Greystone\\nposition: Digital Analyst'\n",
      "2023-04-25 22:20:48,643 |    DEBUG | ai_request.py:275 | 'starting query for:\\ncompany: Santander Bank\\nposition: Associate Data Science'\n",
      "2023-04-25 22:21:07,485 |    DEBUG | ai_request.py:244 | tokens in transaction:     4902\n",
      "2023-04-25 22:21:07,487 |    DEBUG | ai_request.py:245 | cost of transaction:       0.009804\n",
      "2023-04-25 22:21:07,490 |    DEBUG | ai_request.py:150 | \n",
      "updating entries for:\n",
      "item['index']: 0\n",
      "2023-04-25 22:21:07,491 |    DEBUG | ai_request.py:152 | \n",
      "data[item['index']]:\n",
      "index => 0\n",
      "2023-04-25 22:21:07,492 |    DEBUG | ai_request.py:152 | \n",
      "data[item['index']]:\n",
      "num_tokens => 2565\n",
      "2023-04-25 22:21:07,493 |    DEBUG | ai_request.py:152 | \n",
      "data[item['index']]:\n",
      "response_model => gpt-3.5-turbo-0301\n",
      "2023-04-25 22:21:07,494 |    DEBUG | ai_request.py:152 | \n",
      "data[item['index']]:\n",
      "response_text => Here's a customized cover letter based on the job description you provided:\n",
      "\n",
      "Dear Hiring Manager,\n",
      "\n",
      "I am writing to express my interest in the Digital Analyst position at Greystone. With my recent \n",
      "graduation from the Flatiron School with a certificate in Data Science, I am confident that my skills \n",
      "and experience make me a strong candidate for this position.\n",
      "\n",
      "During my time at Flatiron, I developed proficiency in data cleaning, data models, data analytics, data \n",
      "visualization, mathematics, statistics, deep learning, and machine vision, which are all relevant to \n",
      "the Digital Analyst position. Additionally, I have worked as a project manager, welder, carpenter, and \n",
      "delivery and warehouse operations manager, which have honed my skills in team leadership, G-Suite, \n",
      "communication, and data engineering.\n",
      "\n",
      "As a highly motivated and industrious individual, I have consistently been promoted and have worked \n",
      "hard to earn greater responsibility at all of my former places of work. I develop expertise quickly \n",
      "and excel at finding creative solutions to complex problems. My highest priority is to always be a \n",
      "great team member, and I highly value professionalism, respect, and integrity.\n",
      "\n",
      "I am excited about the opportunity to contribute to Greystone as a Digital Analyst. I am confident that \n",
      "my skills and experience make me a strong candidate for this position, and I look forward to the \n",
      "opportunity to discuss my qualifications further.\n",
      "\n",
      "Thank you for considering my application.\n",
      "\n",
      "Sincerely,\n",
      "[Your Name]\n",
      "2023-04-25 22:21:07,496 |    DEBUG | ai_request.py:152 | \n",
      "data[item['index']]:\n",
      "response_timestamp => 1682475632\n",
      "2023-04-25 22:21:07,496 |    DEBUG | ai_request.py:152 | \n",
      "data[item['index']]:\n",
      "response_cost => 0.00513\n",
      "2023-04-25 22:21:07,497 |    DEBUG | ai_request.py:152 | \n",
      "data[item['index']]:\n",
      "response_generated => True\n",
      "2023-04-25 22:21:07,497 |    DEBUG | ai_request.py:157 | self.data[idx]['response_cost']:\n",
      "[0.005164, 0.00513]\n",
      "2023-04-25 22:21:07,498 |    DEBUG | ai_request.py:150 | \n",
      "updating entries for:\n",
      "item['index']: 1\n",
      "2023-04-25 22:21:07,498 |    DEBUG | ai_request.py:152 | \n",
      "data[item['index']]:\n",
      "index => 1\n",
      "2023-04-25 22:21:07,498 |    DEBUG | ai_request.py:152 | \n",
      "data[item['index']]:\n",
      "num_tokens => 2337\n",
      "2023-04-25 22:21:07,499 |    DEBUG | ai_request.py:152 | \n",
      "data[item['index']]:\n",
      "response_model => gpt-3.5-turbo-0301\n",
      "2023-04-25 22:21:07,499 |    DEBUG | ai_request.py:152 | \n",
      "data[item['index']]:\n",
      "response_text => Great! Here's a customized cover letter based on the job description and your information:\n",
      "\n",
      "Dear Hiring Manager,\n",
      "\n",
      "I am writing to express my interest in the Associate Data Science position at Santander Bank. As a recent graduate from the Flatiron School with a certificate in Data Science, I am confident that my skills and experience make me a strong candidate for this position.\n",
      "\n",
      "During my time at Flatiron, I developed my proficiency in machine learning, data mining, and advanced analytics applied to large-scale data-intensive projects. I also have experience with SQL, R, and Python, which are comparable programming languages to those listed in the job description. Additionally, I have worked as a project manager and have experience in team leadership, which I believe will be valuable in driving cross-functional analytics projects from beginning to end.\n",
      "\n",
      "I am excited about the opportunity to contribute to Santander Bank and to translate business queries into actionable and commercial insights leveraging unstructured data and statistically robust techniques. I am confident that my skills and experience make me a strong candidate for this position, and I look forward to the opportunity to discuss my qualifications further.\n",
      "\n",
      "Thank you for considering my application.\n",
      "\n",
      "Sincerely,\n",
      "[Your Name]\n",
      "2023-04-25 22:21:07,499 |    DEBUG | ai_request.py:152 | \n",
      "data[item['index']]:\n",
      "response_timestamp => 1682475655\n",
      "2023-04-25 22:21:07,499 |    DEBUG | ai_request.py:152 | \n",
      "data[item['index']]:\n",
      "response_cost => 0.004674\n",
      "2023-04-25 22:21:07,499 |    DEBUG | ai_request.py:152 | \n",
      "data[item['index']]:\n",
      "response_generated => True\n",
      "2023-04-25 22:21:07,500 |    DEBUG | ai_request.py:157 | self.data[idx]['response_cost']:\n",
      "[0.004674, 0.004674]\n",
      "2023-04-25 22:21:07,500 |     INFO | ai_request.py:162 | \n",
      "response: update was successful\n"
     ]
    },
    {
     "data": {
      "text/plain": [
       "{'response': 'Successfully Created the cover letters'}"
      ]
     },
     "execution_count": 27,
     "metadata": {},
     "output_type": "execute_result"
    }
   ],
   "source": [
    "lm.make(new_only=False, indexes=[0, 1])"
   ]
  }
 ],
 "metadata": {
  "jupytext": {
   "cell_metadata_filter": "-all",
   "notebook_metadata_filter": "-all"
  },
  "kernelspec": {
   "display_name": "aipg",
   "language": "python",
   "name": "aipg"
  },
  "language_info": {
   "codemirror_mode": {
    "name": "ipython",
    "version": 3
   },
   "file_extension": ".py",
   "mimetype": "text/x-python",
   "name": "python",
   "nbconvert_exporter": "python",
   "pygments_lexer": "ipython3",
   "version": "3.11.3"
  }
 },
 "nbformat": 4,
 "nbformat_minor": 5
}
